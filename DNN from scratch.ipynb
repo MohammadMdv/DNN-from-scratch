{
 "cells": [
  {
   "cell_type": "code",
   "execution_count": 1,
   "id": "cc4d9579",
   "metadata": {},
   "outputs": [],
   "source": [
    "import numpy as np\n",
    "import h5py\n",
    "import matplotlib.pyplot as plt\n",
    "from testCases_v4a import *\n",
    "from dnn_utils_v2 import sigmoid, sigmoid_backward, relu, relu_backward\n",
    "\n",
    "%matplotlib inline"
   ]
  },
  {
   "cell_type": "code",
   "execution_count": 2,
   "id": "f8060f03",
   "metadata": {},
   "outputs": [],
   "source": [
    "plt.rcParams['figure.figsize'] = (5.0, 4.0) # set default size of plots\n",
    "plt.rcParams['image.interpolation'] = 'nearest'\n",
    "plt.rcParams['image.cmap'] = 'gray'\n",
    "\n",
    "%load_ext autoreload\n",
    "%autoreload 2\n",
    "\n",
    "np.random.seed(1)"
   ]
  },
  {
   "cell_type": "code",
   "execution_count": 3,
   "id": "7f6c4bca",
   "metadata": {},
   "outputs": [],
   "source": [
    "def initialize_parameters_deep(layer_dims):\n",
    "    np.random.seed(3)\n",
    "    params = {}\n",
    "    for i in range(len(layer_dims) - 1):\n",
    "        params['W' + str(i + 1)] = np.random.rand(layer_dims[i + 1], layer_dims[i]) * 0.01\n",
    "        params['b' + str(i + 1)] = np.zeros((layer_dims[i + 1], 1))\n",
    "    return params"
   ]
  },
  {
   "cell_type": "code",
   "execution_count": 4,
   "id": "ad5edd63",
   "metadata": {},
   "outputs": [
    {
     "data": {
      "text/plain": [
       "{'W1': array([[0.00550798, 0.00708148, 0.00290905, 0.00510828, 0.00892947],\n",
       "        [0.00896293, 0.00125585, 0.00207243, 0.00051467, 0.0044081 ],\n",
       "        [0.00029876, 0.00456833, 0.00649144, 0.00278487, 0.00676255],\n",
       "        [0.00590863, 0.00023982, 0.00558854, 0.00259252, 0.00415101]]),\n",
       " 'b1': array([[0.],\n",
       "        [0.],\n",
       "        [0.],\n",
       "        [0.]]),\n",
       " 'W2': array([[0.00283525, 0.00693138, 0.00440454, 0.00156868],\n",
       "        [0.00544649, 0.00780315, 0.00306364, 0.00221958],\n",
       "        [0.00387971, 0.00936384, 0.00975995, 0.00672384]]),\n",
       " 'b2': array([[0.],\n",
       "        [0.],\n",
       "        [0.]])}"
      ]
     },
     "execution_count": 4,
     "metadata": {},
     "output_type": "execute_result"
    }
   ],
   "source": [
    "initialize_parameters_deep([5, 4, 3])"
   ]
  },
  {
   "cell_type": "code",
   "execution_count": 5,
   "id": "c607d52f",
   "metadata": {},
   "outputs": [],
   "source": [
    "def linear_forward(A, W, b):\n",
    "    Z = np.dot(W, A) + b\n",
    "    cache = (A, W, b)\n",
    "    return Z, cache"
   ]
  },
  {
   "cell_type": "code",
   "execution_count": 6,
   "id": "77126bef",
   "metadata": {},
   "outputs": [
    {
     "data": {
      "text/plain": [
       "(array([[ 3.26295337, -1.23429987]]),\n",
       " (array([[ 1.62434536, -0.61175641],\n",
       "         [-0.52817175, -1.07296862],\n",
       "         [ 0.86540763, -2.3015387 ]]),\n",
       "  array([[ 1.74481176, -0.7612069 ,  0.3190391 ]]),\n",
       "  array([[-0.24937038]])))"
      ]
     },
     "execution_count": 6,
     "metadata": {},
     "output_type": "execute_result"
    }
   ],
   "source": [
    "A, W, b = linear_forward_test_case()\n",
    "linear_forward(A, W, b)"
   ]
  },
  {
   "cell_type": "code",
   "execution_count": 7,
   "id": "bd80cf81",
   "metadata": {},
   "outputs": [],
   "source": [
    "def linear_activation_forward(A_prev, W, b, activation):\n",
    "    Z, linear_cache = linear_forward(A_prev, W, b)\n",
    "    if activation == \"sigmoid\":\n",
    "        A, activation_cache = sigmoid(Z)\n",
    "    elif activation == \"relu\":\n",
    "        A, activation_cache = relu(Z)\n",
    "    assert(A.shape == (W.shape[0], A_prev.shape[1]))\n",
    "    cache = (linear_cache, activation_cache)\n",
    "    return A, cache"
   ]
  },
  {
   "cell_type": "code",
   "execution_count": 8,
   "id": "1faf1105",
   "metadata": {},
   "outputs": [
    {
     "name": "stdout",
     "output_type": "stream",
     "text": [
      "A with sigmoid: [[0.96890023 0.11013289]]\n",
      "cache: ((array([[-0.41675785, -0.05626683],\n",
      "       [-2.1361961 ,  1.64027081],\n",
      "       [-1.79343559, -0.84174737]]), array([[ 0.50288142, -1.24528809, -1.05795222]]), array([[-0.90900761]])), array([[ 3.43896131, -2.08938436]]))\n",
      "A with relu: [[3.43896131 0.        ]]\n",
      "cache: ((array([[-0.41675785, -0.05626683],\n",
      "       [-2.1361961 ,  1.64027081],\n",
      "       [-1.79343559, -0.84174737]]), array([[ 0.50288142, -1.24528809, -1.05795222]]), array([[-0.90900761]])), array([[ 3.43896131, -2.08938436]]))\n"
     ]
    }
   ],
   "source": [
    "A_prev, W, b = linear_activation_forward_test_case()\n",
    "A, cache = linear_activation_forward(A_prev, W, b, activation = \"sigmoid\")\n",
    "print(\"A with sigmoid: \" + str(A) + \"\\ncache: \" + str(cache))\n",
    "A, cache = linear_activation_forward(A_prev, W, b, activation = \"relu\")\n",
    "print(\"A with relu: \" + str(A) + \"\\ncache: \" + str(cache))"
   ]
  },
  {
   "cell_type": "code",
   "execution_count": 9,
   "id": "b467c49a",
   "metadata": {},
   "outputs": [],
   "source": [
    "def L_model_forward(X, params):\n",
    "    A = X\n",
    "    L = len(params) // 2\n",
    "    cache = []\n",
    "    for i in range(1, L):\n",
    "        A, l_cache = linear_activation_forward(A, params['W' + str(i)], params['b' + str(i)], activation = \"relu\")\n",
    "        cache.append(l_cache)\n",
    "    A, l_cache = linear_activation_forward(A, params['W' + str(L)], params['b' + str(L)], activation = \"sigmoid\")\n",
    "    cache.append(l_cache)\n",
    "    return A, cache"
   ]
  },
  {
   "cell_type": "code",
   "execution_count": 10,
   "id": "566fbee2",
   "metadata": {},
   "outputs": [
    {
     "name": "stdout",
     "output_type": "stream",
     "text": [
      "Result is: [0.03921668 0.70498921 0.19734387 0.04728177]\n",
      "cache is: 3\n"
     ]
    }
   ],
   "source": [
    "X, params = L_model_forward_test_case_2hidden()\n",
    "A, cache = L_model_forward(X, params)\n",
    "print(\"Result is: \" + str(np.squeeze(A)) + \"\\ncache is: \" + str(len(cache)))\n"
   ]
  },
  {
   "cell_type": "code",
   "execution_count": 11,
   "id": "53ccc2aa",
   "metadata": {},
   "outputs": [],
   "source": [
    "def compute_cost(AL, Y):\n",
    "    m = Y.shape[1]\n",
    "    first_sec = np.dot(Y, np.log(AL).T)  # Can also use np.sum() with np.multiply()\n",
    "    second_sec = np.dot((1 - Y), np.log(1 - AL).T)\n",
    "    cost = np.squeeze(-(first_sec + second_sec) / m)\n",
    "    assert(cost.shape == ())\n",
    "    return cost"
   ]
  },
  {
   "cell_type": "code",
   "execution_count": 12,
   "id": "fadce2a6",
   "metadata": {},
   "outputs": [
    {
     "name": "stdout",
     "output_type": "stream",
     "text": [
      "Cost is: 0.2797765635793423\n"
     ]
    }
   ],
   "source": [
    "Y, AL = compute_cost_test_case()\n",
    "print(\"Cost is: \" + str(compute_cost(AL, Y)))"
   ]
  },
  {
   "cell_type": "code",
   "execution_count": 13,
   "id": "1a89e580",
   "metadata": {},
   "outputs": [],
   "source": [
    "def linear_backward(dZ, cache):\n",
    "    A_prev, W, b = cache\n",
    "    m = A_prev.shape[1]\n",
    "    dW = np.dot(dZ, A_prev.T) / m\n",
    "    db = np.sum(dZ, axis = 1, keepdims = True)\n",
    "    dA_prev = np.dot(W.T, dZ)\n",
    "    return dA_prev, dW, db"
   ]
  },
  {
   "cell_type": "code",
   "execution_count": 14,
   "id": "0a550318",
   "metadata": {},
   "outputs": [
    {
     "name": "stdout",
     "output_type": "stream",
     "text": [
      "dA_prev: [[-1.15171336  0.06718465 -0.3204696   2.09812712]\n",
      " [ 0.60345879 -3.72508701  5.81700741 -3.84326836]\n",
      " [-0.4319552  -1.30987417  1.72354705  0.05070578]\n",
      " [-0.38981415  0.60811244 -1.25938424  1.47191593]\n",
      " [-2.52214926  2.67882552 -0.67947465  1.48119548]]\n",
      "dW: [[ 0.07313866 -0.0976715  -0.87585828  0.73763362  0.00785716]\n",
      " [ 0.85508818  0.37530413 -0.59912655  0.71278189 -0.58931808]\n",
      " [ 0.97913304 -0.24376494 -0.08839671  0.55151192 -0.10290907]]\n",
      "db: [[-0.58855142]\n",
      " [-0.4525262 ]\n",
      " [-0.52836405]]\n"
     ]
    }
   ],
   "source": [
    "dZ, cache = linear_backward_test_case()\n",
    "dA, dW, db = linear_backward(dZ, cache)\n",
    "print(\"dA_prev: \" + str(dA) + \"\\ndW: \" + str(dW) + \"\\ndb: \" + str(db))"
   ]
  },
  {
   "cell_type": "code",
   "execution_count": 15,
   "id": "1ff25c33",
   "metadata": {},
   "outputs": [],
   "source": [
    "def linear_activation_backward(dA, cache, activation):\n",
    "    linear_cache, activation_cache = cache\n",
    "    if activation == \"relu\":\n",
    "        dZ = relu_backward(dA, activation_cache)\n",
    "    elif activation == \"sigmoid\":\n",
    "        dZ = sigmoid_backward(dA, activation_cache)\n",
    "    dA_prev, dW, db = linear_backward(dZ, linear_cache)\n",
    "    return dA_prev, dW, db"
   ]
  },
  {
   "cell_type": "code",
   "execution_count": 16,
   "id": "79d8bfa9",
   "metadata": {},
   "outputs": [
    {
     "name": "stdout",
     "output_type": "stream",
     "text": [
      "Sigmoid:\n",
      "dA_prev: [[ 0.11017994  0.01105339]\n",
      " [ 0.09466817  0.00949723]\n",
      " [-0.05743092 -0.00576154]]\n",
      "dW: [[ 0.10266786  0.09778551 -0.01968084]]\n",
      "db: [[-0.11459244]]\n",
      "Relu:\n",
      "dA_prev: [[ 0.44090989 -0.        ]\n",
      " [ 0.37883606 -0.        ]\n",
      " [-0.2298228   0.        ]]\n",
      "dW: [[ 0.44513824  0.37371418 -0.10478989]]\n",
      "db: [[-0.41675785]]\n"
     ]
    }
   ],
   "source": [
    "dA, l_a_cache = linear_activation_backward_test_case()\n",
    "dA_prev, dW, db = linear_activation_backward(dA, l_a_cache, activation = \"sigmoid\")\n",
    "print(\"Sigmoid:\\ndA_prev: \" + str(dA_prev) + \"\\ndW: \" + str(dW) + \"\\ndb: \" + str(db))\n",
    "dA_prev, dW, db = linear_activation_backward(dA, l_a_cache, activation = \"relu\")\n",
    "print(\"Relu:\\ndA_prev: \" + str(dA_prev) + \"\\ndW: \" + str(dW) + \"\\ndb: \" + str(db))"
   ]
  },
  {
   "cell_type": "code",
   "execution_count": 17,
   "id": "8f3e9ccc",
   "metadata": {},
   "outputs": [],
   "source": [
    "def L_model_backward(AL, Y, cache):\n",
    "    L = len(cache)\n",
    "    m = Y.shape[1]\n",
    "    Y = Y.reshape(AL.shape)\n",
    "    grad = {}\n",
    "    dAL = -(np.divide(Y, AL) - np.divide((1 - Y), (1 - AL)))\n",
    "    grad['dA' + str(L - 1)], grad['dW' + str(L)], grad['db' + str(L)] = \\\n",
    "    linear_activation_backward(dAL, cache[L - 1], activation = \"sigmoid\")\n",
    "    for i in reversed(range(L - 1)):\n",
    "        dA, dW, db = linear_activation_backward(grad['dA' + str(i + 1)], cache[i], activation = \"relu\")\n",
    "        grad['dA' + str(i)], grad['dW' + str(i + 1)], grad['db' + str(i + 1)] = dA, dW, db\n",
    "    return grad"
   ]
  },
  {
   "cell_type": "code",
   "execution_count": 18,
   "id": "3f4cc8b8",
   "metadata": {},
   "outputs": [
    {
     "name": "stdout",
     "output_type": "stream",
     "text": [
      "dW1 = [[0.41010002 0.07807203 0.13798444 0.10502167]\n",
      " [0.         0.         0.         0.        ]\n",
      " [0.05283652 0.01005865 0.01777766 0.0135308 ]]\n",
      "db1 = [[-0.44014127]\n",
      " [ 0.        ]\n",
      " [-0.05670698]]\n",
      "dA1 = [[ 0.12913162 -0.44014127]\n",
      " [-0.14175655  0.48317296]\n",
      " [ 0.01663708 -0.05670698]]\n"
     ]
    }
   ],
   "source": [
    "AL, Y, cache = L_model_backward_test_case()\n",
    "print_grads(L_model_backward(AL, Y, cache))"
   ]
  },
  {
   "cell_type": "code",
   "execution_count": 19,
   "id": "4491c191",
   "metadata": {},
   "outputs": [],
   "source": [
    "def update_parameters(params, grad, learning_rate):\n",
    "    L = len(params) // 2\n",
    "    for i in range(1, L + 1):\n",
    "        params[\"W\" + str(i)] = params[\"W\" + str(i)] - learning_rate * grad[\"dW\" + str(i)]\n",
    "        params[\"b\" + str(i)] = params[\"b\" + str(i)] - learning_rate * grad[\"db\" + str(i)]\n",
    "    return params"
   ]
  },
  {
   "cell_type": "code",
   "execution_count": 20,
   "id": "e0c28fdf",
   "metadata": {},
   "outputs": [
    {
     "data": {
      "text/plain": [
       "{'W1': array([[-0.59562069, -0.09991781, -2.14584584,  1.82662008],\n",
       "        [-1.76569676, -0.80627147,  0.51115557, -1.18258802],\n",
       "        [-1.0535704 , -0.86128581,  0.68284052,  2.20374577]]),\n",
       " 'b1': array([[-0.04659241],\n",
       "        [-1.28888275],\n",
       "        [ 0.53405496]]),\n",
       " 'W2': array([[-0.55569196,  0.0354055 ,  1.32964895]]),\n",
       " 'b2': array([[-0.84610769]])}"
      ]
     },
     "execution_count": 20,
     "metadata": {},
     "output_type": "execute_result"
    }
   ],
   "source": [
    "params, grad = update_parameters_test_case()\n",
    "update_parameters(params, grad, 0.1)"
   ]
  },
  {
   "cell_type": "code",
   "execution_count": 21,
   "id": "c3330d42",
   "metadata": {},
   "outputs": [],
   "source": [
    "def predict(X, y, parameters):\n",
    "    \n",
    "    m = X.shape[1]\n",
    "    n = len(parameters) // 2\n",
    "    p = np.zeros((1,m))\n",
    "    \n",
    "    probas, caches = L_model_forward(X, parameters)\n",
    "\n",
    "    for i in range(0, probas.shape[1]):\n",
    "        if probas[0,i] > 0.5:\n",
    "            p[0,i] = 1\n",
    "        else:\n",
    "            p[0,i] = 0\n",
    "    \n",
    "    print(\"Accuracy: \"  + str(np.sum((p == y)/m)))\n",
    "        \n",
    "    return p"
   ]
  },
  {
   "cell_type": "code",
   "execution_count": 22,
   "id": "11a885be",
   "metadata": {},
   "outputs": [],
   "source": [
    "def print_mislabeled_images(classes, X, y, p):\n",
    "    a = p + y\n",
    "    mislabeled_indices = np.asarray(np.where(a == 1))\n",
    "    plt.rcParams['figure.figsize'] = (40.0, 40.0)\n",
    "    num_images = len(mislabeled_indices[0])\n",
    "    for i in range(num_images):\n",
    "        index = mislabeled_indices[1][i]\n",
    "        \n",
    "        plt.subplot(2, num_images, i + 1)\n",
    "        plt.imshow(X[:,index].reshape(64,64,3), interpolation='nearest')\n",
    "        plt.axis('off')\n",
    "        plt.title(\"Prediction: \" + classes[int(p[0,index])].decode(\"utf-8\") + \" \\n Class: \" + classes[y[0,index]].decode(\"utf-8\"))"
   ]
  },
  {
   "cell_type": "code",
   "execution_count": null,
   "id": "b5317cb6",
   "metadata": {},
   "outputs": [],
   "source": []
  }
 ],
 "metadata": {
  "kernelspec": {
   "display_name": "Python 3 (ipykernel)",
   "language": "python",
   "name": "python3"
  },
  "language_info": {
   "codemirror_mode": {
    "name": "ipython",
    "version": 3
   },
   "file_extension": ".py",
   "mimetype": "text/x-python",
   "name": "python",
   "nbconvert_exporter": "python",
   "pygments_lexer": "ipython3",
   "version": "3.9.7"
  }
 },
 "nbformat": 4,
 "nbformat_minor": 5
}
